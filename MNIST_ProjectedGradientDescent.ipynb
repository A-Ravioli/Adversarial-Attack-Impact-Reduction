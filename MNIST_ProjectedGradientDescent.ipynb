{
  "nbformat": 4,
  "nbformat_minor": 0,
  "metadata": {
    "colab": {
      "provenance": [],
      "collapsed_sections": [
        "PY07IFs3LjTl"
      ]
    },
    "kernelspec": {
      "name": "python3",
      "display_name": "Python 3"
    },
    "language_info": {
      "name": "python"
    },
    "gpuClass": "standard",
    "accelerator": "GPU"
  },
  "cells": [
    {
      "cell_type": "markdown",
      "source": [
        "# **Imports and Variables**"
      ],
      "metadata": {
        "id": "yg6g4DM6x8AO"
      }
    },
    {
      "cell_type": "code",
      "source": [
        "!pip install cleverhans\n",
        "\n",
        "import numpy as np\n",
        "import tensorflow as tf\n",
        "import tensorflow_datasets as tfds\n",
        "from absl import app\n",
        "from easydict import EasyDict\n",
        "from tensorflow.keras import Model\n",
        "from tensorflow.keras.layers import Dense, Dropout, Flatten, Conv2D, BatchNormalization\n",
        "\n",
        "from cleverhans.tf2.attacks.carlini_wagner_l2 import carlini_wagner_l2 as cw2\n",
        "from cleverhans.tf2.attacks.fast_gradient_method import fast_gradient_method as fgsm\n",
        "from cleverhans.tf2.attacks.basic_iterative_method import basic_iterative_method as bim\n",
        "from cleverhans.tf2.attacks.projected_gradient_descent import projected_gradient_descent as pgd"
      ],
      "metadata": {
        "id": "dfQ-VzU_YqLJ"
      },
      "execution_count": null,
      "outputs": []
    },
    {
      "cell_type": "code",
      "source": [
        "split = 1\n",
        "def ld_mnist():\n",
        "    \"\"\"Load training and test data.\"\"\"\n",
        "\n",
        "    def convert_types(image, label):\n",
        "        image = tf.cast(image, tf.float32)\n",
        "        image /= 255\n",
        "        return image, label\n",
        "\n",
        "    dataset, info = tfds.load(\n",
        "        \"mnist\", data_dir=\"gs://tfds-data/datasets\", with_info=True, as_supervised=True\n",
        "    )\n",
        "    mnist_train, mnist_test = dataset[\"train\"], dataset[\"test\"]\n",
        "    mnist_train = mnist_train.map(convert_types).shuffle(10000).batch(128)\n",
        "    mnist_test = mnist_test.map(convert_types).batch(128)\n",
        "    return EasyDict(train=mnist_train, test=mnist_test)"
      ],
      "metadata": {
        "id": "h6Z7GG2vGikn"
      },
      "execution_count": null,
      "outputs": []
    },
    {
      "cell_type": "markdown",
      "source": [
        "# **PGD**"
      ],
      "metadata": {
        "id": "CFOlJc4I1a2P"
      }
    },
    {
      "cell_type": "code",
      "source": [
        "epochs = 20\n",
        "eps = [0.05, 0.1, 0.15]\n",
        "\n",
        "loss_object = tf.losses.SparseCategoricalCrossentropy(from_logits=True)\n",
        "\n",
        "optimizers = [tf.optimizers.Adam(learning_rate=0.001),\n",
        "              tf.optimizers.Adadelta(),\n",
        "              tf.optimizers.Adagrad(),\n",
        "              tf.optimizers.Adamax(),\n",
        "              tf.optimizers.Nadam(),\n",
        "              tf.optimizers.RMSprop(),\n",
        "              tf.optimizers.SGD()\n",
        "              ]\n",
        "activations = [\"relu\"#,\n",
        "               #\"sigmoid\",\n",
        "               #\"swish\",\n",
        "               #\"tanh\",\n",
        "               #\"elu\",\n",
        "]"
      ],
      "metadata": {
        "id": "Bh1pSI_v0Mjk"
      },
      "execution_count": null,
      "outputs": []
    },
    {
      "cell_type": "code",
      "source": [
        "class Net(Model):\n",
        "    def __init__(self, act=\"relu\"):\n",
        "        super(Net, self).__init__()\n",
        "        self.conv1 = Conv2D(64, 8, strides=(2, 2), activation=act, padding=\"same\")\n",
        "        self.bc1 = BatchNormalization()\n",
        "        self.conv2 = Conv2D(128, 6, strides=(2, 2), activation=act, padding=\"valid\")\n",
        "        self.bc2 = BatchNormalization()\n",
        "        self.conv3 = Conv2D(128, 5, strides=(1, 1), activation=act, padding=\"valid\")\n",
        "        self.bc3 = BatchNormalization()\n",
        "        self.dropout = Dropout(0.25)\n",
        "        self.flatten = Flatten()\n",
        "        self.dense1 = Dense(128, activation=act)\n",
        "        self.bc4 = BatchNormalization()\n",
        "        self.dense2 = Dense(10)\n",
        "\n",
        "    def call(self, x):\n",
        "        x = self.conv1(x)\n",
        "        #x = self.bc1(x)\n",
        "        x = self.conv2(x)\n",
        "        #x = self.bc2(x)\n",
        "        x = self.conv3(x)\n",
        "        #x = self.bc3(x)\n",
        "        x = self.dropout(x)\n",
        "        x = self.flatten(x)\n",
        "        x = self.dense1(x)\n",
        "        #x = self.bc4(x)\n",
        "        return self.dense2(x)\n",
        "\n",
        "optimizer = tf.optimizers.Adam(learning_rate=0.001)\n",
        "\n",
        "def results(use_defense, epsilon, model):\n",
        "#  for activation in activations:\n",
        "      #for epsilon in eps:\n",
        "          # Load training and test data\n",
        "          data = ld_mnist()\n",
        "          model = model\n",
        "\n",
        "          # Metrics to track the different accuracies.\n",
        "          train_loss = tf.metrics.Mean(name=\"train_loss\")\n",
        "          test_acc_clean = tf.metrics.SparseCategoricalAccuracy()\n",
        "          test_acc_fgsm = tf.metrics.SparseCategoricalAccuracy()\n",
        "          test_acc_pgd = tf.metrics.SparseCategoricalAccuracy()\n",
        "\n",
        "          @tf.function\n",
        "          def train_step(x, y):\n",
        "              with tf.GradientTape() as tape:\n",
        "                  predictions = model(x)\n",
        "                  loss = loss_object(y, predictions)\n",
        "              gradients = tape.gradient(loss, model.trainable_variables)\n",
        "              optimizer.apply_gradients(zip(gradients, model.trainable_variables))\n",
        "              train_loss(loss)\n",
        "\n",
        "          # Train model with adversarial training\n",
        "          for epoch in range(epochs):\n",
        "              # keras like display of progress\n",
        "              progress_bar_train = tf.keras.utils.Progbar(60000)\n",
        "              for (x, y) in data.train:\n",
        "                  if use_defense:\n",
        "                      # Replace clean example with adversarial example for adversarial training\n",
        "                      x = pgd(model, x, epsilon, 0.01, 40, np.inf)\n",
        "                  train_step(x, y)\n",
        "                  progress_bar_train.add(x.shape[0], values=[(\"loss\", train_loss.result())])\n",
        "\n",
        "          # Evaluate on clean and adversarial data\n",
        "          progress_bar_test = tf.keras.utils.Progbar(10000)\n",
        "          for x, y in data.test:\n",
        "              y_pred = model(x)\n",
        "              test_acc_clean(y, y_pred)\n",
        "\n",
        "              x_fgm = pgd(model, x, epsilon, 0.01, 40, np.inf)\n",
        "              y_pred_fgm = model(x_fgm)\n",
        "              test_acc_fgsm(y, y_pred_fgm)\n",
        "\n",
        "              progress_bar_test.add(x.shape[0])\n",
        "          if use_defense:\n",
        "            string = \"PGD Defense (%): {:.3f}\"\n",
        "          else:\n",
        "            string = \"PGD (%): {:.3f}\"\n",
        "          f = open(\"results.txt\", \"a\")\n",
        "          x = \"epsilon: \" + str(epsilon) + \"\\n\" + \"activation: \" + str(activation) + \" \" + \"\\n\" + \"Clean (%): {:.3f}\".format(test_acc_clean.result() * 100) + \"%\"\n",
        "          print(x)\n",
        "          f.write(x + \"\\n\" + \"\\n\")\n",
        "          x = \"epsilon: \" + str(epsilon) + \"\\n\" + \"activation: \" + str(activation) + \" \" + \"\\n\" + string.format(test_acc_fgsm.result() * 100) + \"%\"\n",
        "          f.write(x + \"\\n\" + \"\\n\")\n",
        "          print(x)\n",
        "          f.close()"
      ],
      "metadata": {
        "id": "_C8cX-p-1lDu"
      },
      "execution_count": null,
      "outputs": []
    },
    {
      "cell_type": "code",
      "source": [
        "# No defense\n",
        "eps = [0.1, 0.15, 0.3]\n",
        "for activation in activations:\n",
        "  for ep in eps:\n",
        "    results(False, ep, Net(activation))"
      ],
      "metadata": {
        "id": "Vj0miyBPZtvZ"
      },
      "execution_count": null,
      "outputs": []
    },
    {
      "cell_type": "code",
      "source": [
        "# With defense\n",
        "eps = [0.3]\n",
        "for activation in activations:\n",
        "  for ep in eps:\n",
        "    results(True, ep, Net(activation))"
      ],
      "metadata": {
        "id": "QsjrL7skZv_V",
        "colab": {
          "base_uri": "https://localhost:8080/"
        },
        "outputId": "be9b69be-44de-4dd4-f555-ebfdd10ef6a7"
      },
      "execution_count": null,
      "outputs": [
        {
          "output_type": "stream",
          "name": "stdout",
          "text": [
            "60000/60000 [==============================] - 62s 1ms/step - loss: 1.7317\n",
            "60000/60000 [==============================] - 50s 839us/step - loss: 0.9666\n",
            "60000/60000 [==============================] - 51s 846us/step - loss: 0.7051\n",
            "60000/60000 [==============================] - 51s 851us/step - loss: 0.5747\n",
            "60000/60000 [==============================] - 51s 845us/step - loss: 0.4940\n",
            "60000/60000 [==============================] - 51s 848us/step - loss: 0.4382\n",
            "60000/60000 [==============================] - 51s 849us/step - loss: 0.3971\n",
            "60000/60000 [==============================] - 51s 848us/step - loss: 0.3657\n",
            "60000/60000 [==============================] - 51s 846us/step - loss: 0.3410\n",
            "60000/60000 [==============================] - 51s 846us/step - loss: 0.3203\n",
            "60000/60000 [==============================] - 51s 846us/step - loss: 0.3031\n",
            "60000/60000 [==============================] - 51s 847us/step - loss: 0.2880\n",
            "60000/60000 [==============================] - 51s 844us/step - loss: 0.2749\n",
            "60000/60000 [==============================] - 51s 846us/step - loss: 0.2634\n",
            "60000/60000 [==============================] - 51s 846us/step - loss: 0.2533\n",
            "60000/60000 [==============================] - 51s 844us/step - loss: 0.2442\n",
            "60000/60000 [==============================] - 51s 850us/step - loss: 0.2363\n",
            "60000/60000 [==============================] - 51s 850us/step - loss: 0.2290\n",
            "60000/60000 [==============================] - 51s 847us/step - loss: 0.2222\n",
            "60000/60000 [==============================] - 51s 850us/step - loss: 0.2161\n",
            "10000/10000 [==============================] - 9s 946us/step\n",
            "epsilon: 0.3\n",
            "activation: relu \n",
            "Clean (%): 98.960%\n",
            "epsilon: 0.3\n",
            "activation: relu \n",
            "PGD Defense (%): 93.770%\n"
          ]
        }
      ]
    },
    {
      "cell_type": "markdown",
      "source": [
        "# **FGSM**"
      ],
      "metadata": {
        "id": "PY07IFs3LjTl"
      }
    },
    {
      "cell_type": "code",
      "source": [
        "loss_object = tf.losses.SparseCategoricalCrossentropy(from_logits=True)\n",
        "\n",
        "activations = [\"relu\",\n",
        "               #\"sigmoid\",\n",
        "               #\"elu\",\n",
        "               ]\n",
        "eps = [0.1, 0.15, 0.3]#0.1, 0.15, 0.3]\n",
        "epochs = 10\n",
        "\n",
        "lr = 0.005#0.001\n",
        "\n",
        "optimizer = tf.optimizers.Adam(learning_rate=lr)"
      ],
      "metadata": {
        "id": "M2HRrKG_4w6P"
      },
      "execution_count": null,
      "outputs": []
    },
    {
      "cell_type": "code",
      "source": [
        "class Net1(Model):\n",
        "    def __init__(self, act=\"relu\"):\n",
        "        super(Net1, self).__init__()\n",
        "        self.conv1 = Conv2D(64, 8, strides=(2, 2), activation=act, padding=\"same\")\n",
        "        self.conv2 = Conv2D(128, 6, strides=(2, 2), activation=act, padding=\"valid\")\n",
        "        self.conv3 = Conv2D(128, 5, strides=(1, 1), activation=act, padding=\"valid\")\n",
        "        self.dropout = Dropout(0.25)\n",
        "        self.flatten = Flatten()\n",
        "        self.dense1 = Dense(128, activation=act)\n",
        "        self.dense2 = Dense(10)\n",
        "\n",
        "    def call(self, x):\n",
        "        x = self.conv1(x)\n",
        "        x = self.conv2(x)\n",
        "        x = self.conv3(x)\n",
        "        x = self.dropout(x)\n",
        "        x = self.flatten(x)\n",
        "        x = self.dense1(x)\n",
        "        return self.dense2(x)"
      ],
      "metadata": {
        "id": "S83cp1KWONrM"
      },
      "execution_count": null,
      "outputs": []
    },
    {
      "cell_type": "code",
      "source": [
        "def results(use_defense, epsilon):\n",
        "  for activation in activations:\n",
        "          # Load training and test data\n",
        "          data = ld_mnist()\n",
        "          model = Net1(activation)\n",
        "\n",
        "          # Metrics to track the different accuracies.\n",
        "          train_loss = tf.metrics.Mean(name=\"train_loss\")\n",
        "          test_acc_clean = tf.metrics.SparseCategoricalAccuracy()\n",
        "          test_acc_fgsm = tf.metrics.SparseCategoricalAccuracy()\n",
        "          test_acc_pgd = tf.metrics.SparseCategoricalAccuracy()\n",
        "\n",
        "          @tf.function\n",
        "          def train_step(x, y):\n",
        "              with tf.GradientTape() as tape:\n",
        "                  predictions = model(x)\n",
        "                  loss = loss_object(y, predictions)\n",
        "              gradients = tape.gradient(loss, model.trainable_variables)\n",
        "              optimizer.apply_gradients(zip(gradients, model.trainable_variables))\n",
        "              train_loss(loss)\n",
        "\n",
        "          # Train model with adversarial training\n",
        "          for epoch in range(epochs):\n",
        "              # keras like display of progress\n",
        "              progress_bar_train = tf.keras.utils.Progbar(60000)\n",
        "              for (x, y) in data.train:\n",
        "                  if use_defense:\n",
        "                      # Replace clean example with adversarial example for adversarial training\n",
        "                      x = fgsm(model, x, epsilon, np.inf)\n",
        "                  train_step(x, y)\n",
        "                  progress_bar_train.add(x.shape[0], values=[(\"loss\", train_loss.result())])\n",
        "\n",
        "          # Evaluate on clean and adversarial data\n",
        "          progress_bar_test = tf.keras.utils.Progbar(10000)\n",
        "          for x, y in data.test:\n",
        "              y_pred = model(x)\n",
        "              test_acc_clean(y, y_pred)\n",
        "\n",
        "              x_fgm = fgsm(model, x, epsilon, np.inf)\n",
        "              y_pred_fgm = model(x_fgm)\n",
        "              test_acc_fgsm(y, y_pred_fgm)\n",
        "\n",
        "              progress_bar_test.add(x.shape[0])\n",
        "\n",
        "          if use_defense:\n",
        "            string = \"FGSM Defense (%): {:.3f}\"\n",
        "          else:\n",
        "            string = \"FGSM (%): {:.3f}\"\n",
        "          \n",
        "          #del model\n",
        "\n",
        "          f = open(\"results.txt\", \"a\")\n",
        "          x = \"epsilon: \" + str(epsilon) + \"\\n\" + \"activation: \" + str(activation) + \" \" + \"\\n\" + \"Clean (%): {:.3f}\".format(test_acc_clean.result() * 100) + \"%\"\n",
        "          print(x)\n",
        "          f.write(x + \"\\n\" + \"\\n\")\n",
        "          x = \"epsilon: \" + str(epsilon) + \"\\n\" + \"activation: \" + str(activation) + \" \" + \"\\n\" + string.format(test_acc_fgsm.result() * 100) + \"%\"\n",
        "          f.write(x + \"\\n\" + \"\\n\")\n",
        "          print(x)\n",
        "          f.close()"
      ],
      "metadata": {
        "id": "qmir4MEudvOq"
      },
      "execution_count": null,
      "outputs": []
    },
    {
      "cell_type": "code",
      "source": [
        "# No Defense\n",
        "eps = [0.1, 0.15, 0.3]\n",
        "for ep in eps:\n",
        "  results(use_defense=False, epsilon=ep)"
      ],
      "metadata": {
        "id": "aRVVbDyQ4mFk",
        "colab": {
          "base_uri": "https://localhost:8080/"
        },
        "outputId": "24d15eda-03b2-4185-ee3a-65d884166a03"
      },
      "execution_count": null,
      "outputs": [
        {
          "output_type": "stream",
          "name": "stdout",
          "text": [
            "60000/60000 [==============================] - 16s 260us/step - loss: 0.4114\n",
            "60000/60000 [==============================] - 6s 100us/step - loss: 0.1331\n",
            "60000/60000 [==============================] - 3s 54us/step - loss: 0.0985\n",
            "60000/60000 [==============================] - 3s 54us/step - loss: 0.0808\n",
            "60000/60000 [==============================] - 3s 53us/step - loss: 0.0699\n",
            "60000/60000 [==============================] - 3s 55us/step - loss: 0.0625\n",
            "60000/60000 [==============================] - 3s 54us/step - loss: 0.0568\n",
            "60000/60000 [==============================] - 3s 54us/step - loss: 0.0524\n",
            "60000/60000 [==============================] - 3s 54us/step - loss: 0.0487\n",
            "60000/60000 [==============================] - 3s 53us/step - loss: 0.0460\n",
            "10000/10000 [==============================] - 3s 256us/step\n",
            "epsilon: 0.1\n",
            "activation: relu \n",
            "Clean (%): 98.430%\n",
            "epsilon: 0.1\n",
            "activation: relu \n",
            "FGSM (%): 66.810%\n",
            "60000/60000 [==============================] - 7s 119us/step - loss: 2.4690\n",
            "60000/60000 [==============================] - 3s 55us/step - loss: 2.3224\n",
            "60000/60000 [==============================] - 3s 55us/step - loss: 2.3137\n",
            "60000/60000 [==============================] - 3s 55us/step - loss: 2.3102\n",
            "60000/60000 [==============================] - 3s 55us/step - loss: 2.3083\n",
            "60000/60000 [==============================] - 4s 71us/step - loss: 2.3071\n",
            "60000/60000 [==============================] - 3s 57us/step - loss: 2.3062\n",
            "60000/60000 [==============================] - 3s 54us/step - loss: 2.3056\n",
            "60000/60000 [==============================] - 3s 56us/step - loss: 2.3051\n",
            "60000/60000 [==============================] - 3s 53us/step - loss: 2.3048\n",
            "10000/10000 [==============================] - 3s 259us/step\n",
            "epsilon: 0.15\n",
            "activation: relu \n",
            "Clean (%): 11.350%\n",
            "epsilon: 0.15\n",
            "activation: relu \n",
            "FGSM (%): 11.350%\n",
            "60000/60000 [==============================] - 7s 125us/step - loss: 2.6803\n",
            "60000/60000 [==============================] - 3s 57us/step - loss: 2.3478\n",
            "60000/60000 [==============================] - 3s 55us/step - loss: 2.3286\n",
            "60000/60000 [==============================] - 3s 55us/step - loss: 2.3208\n",
            "60000/60000 [==============================] - 3s 54us/step - loss: 2.3165\n",
            "60000/60000 [==============================] - 4s 60us/step - loss: 2.3138\n",
            "60000/60000 [==============================] - 3s 55us/step - loss: 2.3119\n",
            "60000/60000 [==============================] - 3s 56us/step - loss: 2.3105\n",
            "60000/60000 [==============================] - 3s 55us/step - loss: 2.3095\n",
            "60000/60000 [==============================] - 3s 55us/step - loss: 2.3086\n",
            "10000/10000 [==============================] - 3s 329us/step\n",
            "epsilon: 0.3\n",
            "activation: relu \n",
            "Clean (%): 11.350%\n",
            "epsilon: 0.3\n",
            "activation: relu \n",
            "FGSM (%): 11.350%\n"
          ]
        }
      ]
    },
    {
      "cell_type": "code",
      "source": [
        "# Defense\n",
        "for ep in eps:\n",
        "  results(True, ep)"
      ],
      "metadata": {
        "colab": {
          "base_uri": "https://localhost:8080/"
        },
        "id": "LZF_KaOy4qii",
        "outputId": "74f7395c-bb85-4194-9934-e0643ec61b13"
      },
      "execution_count": null,
      "outputs": [
        {
          "output_type": "stream",
          "name": "stdout",
          "text": [
            "20992/60000 [=========>....................] - ETA: 14s - loss: 1.5038"
          ]
        },
        {
          "output_type": "error",
          "ename": "KeyboardInterrupt",
          "evalue": "ignored",
          "traceback": [
            "\u001b[0;31m---------------------------------------------------------------------------\u001b[0m",
            "\u001b[0;31mKeyboardInterrupt\u001b[0m                         Traceback (most recent call last)",
            "\u001b[0;32m<ipython-input-7-b834104fe2dc>\u001b[0m in \u001b[0;36m<module>\u001b[0;34m()\u001b[0m\n\u001b[1;32m      1\u001b[0m \u001b[0;31m# Defense\u001b[0m\u001b[0;34m\u001b[0m\u001b[0;34m\u001b[0m\u001b[0;34m\u001b[0m\u001b[0m\n\u001b[1;32m      2\u001b[0m \u001b[0;32mfor\u001b[0m \u001b[0mep\u001b[0m \u001b[0;32min\u001b[0m \u001b[0meps\u001b[0m\u001b[0;34m:\u001b[0m\u001b[0;34m\u001b[0m\u001b[0;34m\u001b[0m\u001b[0m\n\u001b[0;32m----> 3\u001b[0;31m   \u001b[0mresults\u001b[0m\u001b[0;34m(\u001b[0m\u001b[0;32mTrue\u001b[0m\u001b[0;34m,\u001b[0m \u001b[0mep\u001b[0m\u001b[0;34m)\u001b[0m\u001b[0;34m\u001b[0m\u001b[0;34m\u001b[0m\u001b[0m\n\u001b[0m",
            "\u001b[0;32m<ipython-input-5-62d0e36011b6>\u001b[0m in \u001b[0;36mresults\u001b[0;34m(use_defense, epsilon)\u001b[0m\n\u001b[1;32m     27\u001b[0m                   \u001b[0;32mif\u001b[0m \u001b[0muse_defense\u001b[0m\u001b[0;34m:\u001b[0m\u001b[0;34m\u001b[0m\u001b[0;34m\u001b[0m\u001b[0m\n\u001b[1;32m     28\u001b[0m                       \u001b[0;31m# Replace clean example with adversarial example for adversarial training\u001b[0m\u001b[0;34m\u001b[0m\u001b[0;34m\u001b[0m\u001b[0;34m\u001b[0m\u001b[0m\n\u001b[0;32m---> 29\u001b[0;31m                       \u001b[0mx\u001b[0m \u001b[0;34m=\u001b[0m \u001b[0mfgsm\u001b[0m\u001b[0;34m(\u001b[0m\u001b[0mmodel\u001b[0m\u001b[0;34m,\u001b[0m \u001b[0mx\u001b[0m\u001b[0;34m,\u001b[0m \u001b[0mepsilon\u001b[0m\u001b[0;34m,\u001b[0m \u001b[0mnp\u001b[0m\u001b[0;34m.\u001b[0m\u001b[0minf\u001b[0m\u001b[0;34m)\u001b[0m\u001b[0;34m\u001b[0m\u001b[0;34m\u001b[0m\u001b[0m\n\u001b[0m\u001b[1;32m     30\u001b[0m                   \u001b[0mtrain_step\u001b[0m\u001b[0;34m(\u001b[0m\u001b[0mx\u001b[0m\u001b[0;34m,\u001b[0m \u001b[0my\u001b[0m\u001b[0;34m)\u001b[0m\u001b[0;34m\u001b[0m\u001b[0;34m\u001b[0m\u001b[0m\n\u001b[1;32m     31\u001b[0m                   \u001b[0mprogress_bar_train\u001b[0m\u001b[0;34m.\u001b[0m\u001b[0madd\u001b[0m\u001b[0;34m(\u001b[0m\u001b[0mx\u001b[0m\u001b[0;34m.\u001b[0m\u001b[0mshape\u001b[0m\u001b[0;34m[\u001b[0m\u001b[0;36m0\u001b[0m\u001b[0;34m]\u001b[0m\u001b[0;34m,\u001b[0m \u001b[0mvalues\u001b[0m\u001b[0;34m=\u001b[0m\u001b[0;34m[\u001b[0m\u001b[0;34m(\u001b[0m\u001b[0;34m\"loss\"\u001b[0m\u001b[0;34m,\u001b[0m \u001b[0mtrain_loss\u001b[0m\u001b[0;34m.\u001b[0m\u001b[0mresult\u001b[0m\u001b[0;34m(\u001b[0m\u001b[0;34m)\u001b[0m\u001b[0;34m)\u001b[0m\u001b[0;34m]\u001b[0m\u001b[0;34m)\u001b[0m\u001b[0;34m\u001b[0m\u001b[0;34m\u001b[0m\u001b[0m\n",
            "\u001b[0;32m/usr/local/lib/python3.7/dist-packages/cleverhans/tf2/attacks/fast_gradient_method.py\u001b[0m in \u001b[0;36mfast_gradient_method\u001b[0;34m(model_fn, x, eps, norm, loss_fn, clip_min, clip_max, y, targeted, sanity_checks)\u001b[0m\n\u001b[1;32m     61\u001b[0m     \u001b[0;32mif\u001b[0m \u001b[0my\u001b[0m \u001b[0;32mis\u001b[0m \u001b[0;32mNone\u001b[0m\u001b[0;34m:\u001b[0m\u001b[0;34m\u001b[0m\u001b[0;34m\u001b[0m\u001b[0m\n\u001b[1;32m     62\u001b[0m         \u001b[0;31m# Using model predictions as ground truth to avoid label leaking\u001b[0m\u001b[0;34m\u001b[0m\u001b[0;34m\u001b[0m\u001b[0;34m\u001b[0m\u001b[0m\n\u001b[0;32m---> 63\u001b[0;31m         \u001b[0my\u001b[0m \u001b[0;34m=\u001b[0m \u001b[0mtf\u001b[0m\u001b[0;34m.\u001b[0m\u001b[0margmax\u001b[0m\u001b[0;34m(\u001b[0m\u001b[0mmodel_fn\u001b[0m\u001b[0;34m(\u001b[0m\u001b[0mx\u001b[0m\u001b[0;34m)\u001b[0m\u001b[0;34m,\u001b[0m \u001b[0;36m1\u001b[0m\u001b[0;34m)\u001b[0m\u001b[0;34m\u001b[0m\u001b[0;34m\u001b[0m\u001b[0m\n\u001b[0m\u001b[1;32m     64\u001b[0m \u001b[0;34m\u001b[0m\u001b[0m\n\u001b[1;32m     65\u001b[0m     \u001b[0mgrad\u001b[0m \u001b[0;34m=\u001b[0m \u001b[0mcompute_gradient\u001b[0m\u001b[0;34m(\u001b[0m\u001b[0mmodel_fn\u001b[0m\u001b[0;34m,\u001b[0m \u001b[0mloss_fn\u001b[0m\u001b[0;34m,\u001b[0m \u001b[0mx\u001b[0m\u001b[0;34m,\u001b[0m \u001b[0my\u001b[0m\u001b[0;34m,\u001b[0m \u001b[0mtargeted\u001b[0m\u001b[0;34m)\u001b[0m\u001b[0;34m\u001b[0m\u001b[0;34m\u001b[0m\u001b[0m\n",
            "\u001b[0;32m/usr/local/lib/python3.7/dist-packages/keras/utils/traceback_utils.py\u001b[0m in \u001b[0;36merror_handler\u001b[0;34m(*args, **kwargs)\u001b[0m\n\u001b[1;32m     62\u001b[0m     \u001b[0mfiltered_tb\u001b[0m \u001b[0;34m=\u001b[0m \u001b[0;32mNone\u001b[0m\u001b[0;34m\u001b[0m\u001b[0;34m\u001b[0m\u001b[0m\n\u001b[1;32m     63\u001b[0m     \u001b[0;32mtry\u001b[0m\u001b[0;34m:\u001b[0m\u001b[0;34m\u001b[0m\u001b[0;34m\u001b[0m\u001b[0m\n\u001b[0;32m---> 64\u001b[0;31m       \u001b[0;32mreturn\u001b[0m \u001b[0mfn\u001b[0m\u001b[0;34m(\u001b[0m\u001b[0;34m*\u001b[0m\u001b[0margs\u001b[0m\u001b[0;34m,\u001b[0m \u001b[0;34m**\u001b[0m\u001b[0mkwargs\u001b[0m\u001b[0;34m)\u001b[0m\u001b[0;34m\u001b[0m\u001b[0;34m\u001b[0m\u001b[0m\n\u001b[0m\u001b[1;32m     65\u001b[0m     \u001b[0;32mexcept\u001b[0m \u001b[0mException\u001b[0m \u001b[0;32mas\u001b[0m \u001b[0me\u001b[0m\u001b[0;34m:\u001b[0m  \u001b[0;31m# pylint: disable=broad-except\u001b[0m\u001b[0;34m\u001b[0m\u001b[0;34m\u001b[0m\u001b[0m\n\u001b[1;32m     66\u001b[0m       \u001b[0mfiltered_tb\u001b[0m \u001b[0;34m=\u001b[0m \u001b[0m_process_traceback_frames\u001b[0m\u001b[0;34m(\u001b[0m\u001b[0me\u001b[0m\u001b[0;34m.\u001b[0m\u001b[0m__traceback__\u001b[0m\u001b[0;34m)\u001b[0m\u001b[0;34m\u001b[0m\u001b[0;34m\u001b[0m\u001b[0m\n",
            "\u001b[0;32m/usr/local/lib/python3.7/dist-packages/keras/engine/base_layer.py\u001b[0m in \u001b[0;36m__call__\u001b[0;34m(self, *args, **kwargs)\u001b[0m\n\u001b[1;32m   1094\u001b[0m         with autocast_variable.enable_auto_cast_variables(\n\u001b[1;32m   1095\u001b[0m             self._compute_dtype_object):\n\u001b[0;32m-> 1096\u001b[0;31m           \u001b[0moutputs\u001b[0m \u001b[0;34m=\u001b[0m \u001b[0mcall_fn\u001b[0m\u001b[0;34m(\u001b[0m\u001b[0minputs\u001b[0m\u001b[0;34m,\u001b[0m \u001b[0;34m*\u001b[0m\u001b[0margs\u001b[0m\u001b[0;34m,\u001b[0m \u001b[0;34m**\u001b[0m\u001b[0mkwargs\u001b[0m\u001b[0;34m)\u001b[0m\u001b[0;34m\u001b[0m\u001b[0;34m\u001b[0m\u001b[0m\n\u001b[0m\u001b[1;32m   1097\u001b[0m \u001b[0;34m\u001b[0m\u001b[0m\n\u001b[1;32m   1098\u001b[0m         \u001b[0;32mif\u001b[0m \u001b[0mself\u001b[0m\u001b[0;34m.\u001b[0m\u001b[0m_activity_regularizer\u001b[0m\u001b[0;34m:\u001b[0m\u001b[0;34m\u001b[0m\u001b[0;34m\u001b[0m\u001b[0m\n",
            "\u001b[0;32m/usr/local/lib/python3.7/dist-packages/keras/utils/traceback_utils.py\u001b[0m in \u001b[0;36merror_handler\u001b[0;34m(*args, **kwargs)\u001b[0m\n\u001b[1;32m     90\u001b[0m     \u001b[0mbound_signature\u001b[0m \u001b[0;34m=\u001b[0m \u001b[0;32mNone\u001b[0m\u001b[0;34m\u001b[0m\u001b[0;34m\u001b[0m\u001b[0m\n\u001b[1;32m     91\u001b[0m     \u001b[0;32mtry\u001b[0m\u001b[0;34m:\u001b[0m\u001b[0;34m\u001b[0m\u001b[0;34m\u001b[0m\u001b[0m\n\u001b[0;32m---> 92\u001b[0;31m       \u001b[0;32mreturn\u001b[0m \u001b[0mfn\u001b[0m\u001b[0;34m(\u001b[0m\u001b[0;34m*\u001b[0m\u001b[0margs\u001b[0m\u001b[0;34m,\u001b[0m \u001b[0;34m**\u001b[0m\u001b[0mkwargs\u001b[0m\u001b[0;34m)\u001b[0m\u001b[0;34m\u001b[0m\u001b[0;34m\u001b[0m\u001b[0m\n\u001b[0m\u001b[1;32m     93\u001b[0m     \u001b[0;32mexcept\u001b[0m \u001b[0mException\u001b[0m \u001b[0;32mas\u001b[0m \u001b[0me\u001b[0m\u001b[0;34m:\u001b[0m  \u001b[0;31m# pylint: disable=broad-except\u001b[0m\u001b[0;34m\u001b[0m\u001b[0;34m\u001b[0m\u001b[0m\n\u001b[1;32m     94\u001b[0m       \u001b[0;32mif\u001b[0m \u001b[0mhasattr\u001b[0m\u001b[0;34m(\u001b[0m\u001b[0me\u001b[0m\u001b[0;34m,\u001b[0m \u001b[0;34m'_keras_call_info_injected'\u001b[0m\u001b[0;34m)\u001b[0m\u001b[0;34m:\u001b[0m\u001b[0;34m\u001b[0m\u001b[0;34m\u001b[0m\u001b[0m\n",
            "\u001b[0;32m<ipython-input-4-0bfcf7e39ac5>\u001b[0m in \u001b[0;36mcall\u001b[0;34m(self, x)\u001b[0m\n\u001b[1;32m     11\u001b[0m \u001b[0;34m\u001b[0m\u001b[0m\n\u001b[1;32m     12\u001b[0m     \u001b[0;32mdef\u001b[0m \u001b[0mcall\u001b[0m\u001b[0;34m(\u001b[0m\u001b[0mself\u001b[0m\u001b[0;34m,\u001b[0m \u001b[0mx\u001b[0m\u001b[0;34m)\u001b[0m\u001b[0;34m:\u001b[0m\u001b[0;34m\u001b[0m\u001b[0;34m\u001b[0m\u001b[0m\n\u001b[0;32m---> 13\u001b[0;31m         \u001b[0mx\u001b[0m \u001b[0;34m=\u001b[0m \u001b[0mself\u001b[0m\u001b[0;34m.\u001b[0m\u001b[0mconv1\u001b[0m\u001b[0;34m(\u001b[0m\u001b[0mx\u001b[0m\u001b[0;34m)\u001b[0m\u001b[0;34m\u001b[0m\u001b[0;34m\u001b[0m\u001b[0m\n\u001b[0m\u001b[1;32m     14\u001b[0m         \u001b[0mx\u001b[0m \u001b[0;34m=\u001b[0m \u001b[0mself\u001b[0m\u001b[0;34m.\u001b[0m\u001b[0mconv2\u001b[0m\u001b[0;34m(\u001b[0m\u001b[0mx\u001b[0m\u001b[0;34m)\u001b[0m\u001b[0;34m\u001b[0m\u001b[0;34m\u001b[0m\u001b[0m\n\u001b[1;32m     15\u001b[0m         \u001b[0mx\u001b[0m \u001b[0;34m=\u001b[0m \u001b[0mself\u001b[0m\u001b[0;34m.\u001b[0m\u001b[0mconv3\u001b[0m\u001b[0;34m(\u001b[0m\u001b[0mx\u001b[0m\u001b[0;34m)\u001b[0m\u001b[0;34m\u001b[0m\u001b[0;34m\u001b[0m\u001b[0m\n",
            "\u001b[0;32m/usr/local/lib/python3.7/dist-packages/keras/utils/traceback_utils.py\u001b[0m in \u001b[0;36merror_handler\u001b[0;34m(*args, **kwargs)\u001b[0m\n\u001b[1;32m     62\u001b[0m     \u001b[0mfiltered_tb\u001b[0m \u001b[0;34m=\u001b[0m \u001b[0;32mNone\u001b[0m\u001b[0;34m\u001b[0m\u001b[0;34m\u001b[0m\u001b[0m\n\u001b[1;32m     63\u001b[0m     \u001b[0;32mtry\u001b[0m\u001b[0;34m:\u001b[0m\u001b[0;34m\u001b[0m\u001b[0;34m\u001b[0m\u001b[0m\n\u001b[0;32m---> 64\u001b[0;31m       \u001b[0;32mreturn\u001b[0m \u001b[0mfn\u001b[0m\u001b[0;34m(\u001b[0m\u001b[0;34m*\u001b[0m\u001b[0margs\u001b[0m\u001b[0;34m,\u001b[0m \u001b[0;34m**\u001b[0m\u001b[0mkwargs\u001b[0m\u001b[0;34m)\u001b[0m\u001b[0;34m\u001b[0m\u001b[0;34m\u001b[0m\u001b[0m\n\u001b[0m\u001b[1;32m     65\u001b[0m     \u001b[0;32mexcept\u001b[0m \u001b[0mException\u001b[0m \u001b[0;32mas\u001b[0m \u001b[0me\u001b[0m\u001b[0;34m:\u001b[0m  \u001b[0;31m# pylint: disable=broad-except\u001b[0m\u001b[0;34m\u001b[0m\u001b[0;34m\u001b[0m\u001b[0m\n\u001b[1;32m     66\u001b[0m       \u001b[0mfiltered_tb\u001b[0m \u001b[0;34m=\u001b[0m \u001b[0m_process_traceback_frames\u001b[0m\u001b[0;34m(\u001b[0m\u001b[0me\u001b[0m\u001b[0;34m.\u001b[0m\u001b[0m__traceback__\u001b[0m\u001b[0;34m)\u001b[0m\u001b[0;34m\u001b[0m\u001b[0;34m\u001b[0m\u001b[0m\n",
            "\u001b[0;32m/usr/local/lib/python3.7/dist-packages/keras/engine/base_layer.py\u001b[0m in \u001b[0;36m__call__\u001b[0;34m(self, *args, **kwargs)\u001b[0m\n\u001b[1;32m   1094\u001b[0m         with autocast_variable.enable_auto_cast_variables(\n\u001b[1;32m   1095\u001b[0m             self._compute_dtype_object):\n\u001b[0;32m-> 1096\u001b[0;31m           \u001b[0moutputs\u001b[0m \u001b[0;34m=\u001b[0m \u001b[0mcall_fn\u001b[0m\u001b[0;34m(\u001b[0m\u001b[0minputs\u001b[0m\u001b[0;34m,\u001b[0m \u001b[0;34m*\u001b[0m\u001b[0margs\u001b[0m\u001b[0;34m,\u001b[0m \u001b[0;34m**\u001b[0m\u001b[0mkwargs\u001b[0m\u001b[0;34m)\u001b[0m\u001b[0;34m\u001b[0m\u001b[0;34m\u001b[0m\u001b[0m\n\u001b[0m\u001b[1;32m   1097\u001b[0m \u001b[0;34m\u001b[0m\u001b[0m\n\u001b[1;32m   1098\u001b[0m         \u001b[0;32mif\u001b[0m \u001b[0mself\u001b[0m\u001b[0;34m.\u001b[0m\u001b[0m_activity_regularizer\u001b[0m\u001b[0;34m:\u001b[0m\u001b[0;34m\u001b[0m\u001b[0;34m\u001b[0m\u001b[0m\n",
            "\u001b[0;32m/usr/local/lib/python3.7/dist-packages/keras/utils/traceback_utils.py\u001b[0m in \u001b[0;36merror_handler\u001b[0;34m(*args, **kwargs)\u001b[0m\n\u001b[1;32m     90\u001b[0m     \u001b[0mbound_signature\u001b[0m \u001b[0;34m=\u001b[0m \u001b[0;32mNone\u001b[0m\u001b[0;34m\u001b[0m\u001b[0;34m\u001b[0m\u001b[0m\n\u001b[1;32m     91\u001b[0m     \u001b[0;32mtry\u001b[0m\u001b[0;34m:\u001b[0m\u001b[0;34m\u001b[0m\u001b[0;34m\u001b[0m\u001b[0m\n\u001b[0;32m---> 92\u001b[0;31m       \u001b[0;32mreturn\u001b[0m \u001b[0mfn\u001b[0m\u001b[0;34m(\u001b[0m\u001b[0;34m*\u001b[0m\u001b[0margs\u001b[0m\u001b[0;34m,\u001b[0m \u001b[0;34m**\u001b[0m\u001b[0mkwargs\u001b[0m\u001b[0;34m)\u001b[0m\u001b[0;34m\u001b[0m\u001b[0;34m\u001b[0m\u001b[0m\n\u001b[0m\u001b[1;32m     93\u001b[0m     \u001b[0;32mexcept\u001b[0m \u001b[0mException\u001b[0m \u001b[0;32mas\u001b[0m \u001b[0me\u001b[0m\u001b[0;34m:\u001b[0m  \u001b[0;31m# pylint: disable=broad-except\u001b[0m\u001b[0;34m\u001b[0m\u001b[0;34m\u001b[0m\u001b[0m\n\u001b[1;32m     94\u001b[0m       \u001b[0;32mif\u001b[0m \u001b[0mhasattr\u001b[0m\u001b[0;34m(\u001b[0m\u001b[0me\u001b[0m\u001b[0;34m,\u001b[0m \u001b[0;34m'_keras_call_info_injected'\u001b[0m\u001b[0;34m)\u001b[0m\u001b[0;34m:\u001b[0m\u001b[0;34m\u001b[0m\u001b[0;34m\u001b[0m\u001b[0m\n",
            "\u001b[0;32m/usr/local/lib/python3.7/dist-packages/keras/layers/convolutional.py\u001b[0m in \u001b[0;36mcall\u001b[0;34m(self, inputs)\u001b[0m\n\u001b[1;32m    273\u001b[0m \u001b[0;34m\u001b[0m\u001b[0m\n\u001b[1;32m    274\u001b[0m     \u001b[0;32mif\u001b[0m \u001b[0mself\u001b[0m\u001b[0;34m.\u001b[0m\u001b[0mactivation\u001b[0m \u001b[0;32mis\u001b[0m \u001b[0;32mnot\u001b[0m \u001b[0;32mNone\u001b[0m\u001b[0;34m:\u001b[0m\u001b[0;34m\u001b[0m\u001b[0;34m\u001b[0m\u001b[0m\n\u001b[0;32m--> 275\u001b[0;31m       \u001b[0;32mreturn\u001b[0m \u001b[0mself\u001b[0m\u001b[0;34m.\u001b[0m\u001b[0mactivation\u001b[0m\u001b[0;34m(\u001b[0m\u001b[0moutputs\u001b[0m\u001b[0;34m)\u001b[0m\u001b[0;34m\u001b[0m\u001b[0;34m\u001b[0m\u001b[0m\n\u001b[0m\u001b[1;32m    276\u001b[0m     \u001b[0;32mreturn\u001b[0m \u001b[0moutputs\u001b[0m\u001b[0;34m\u001b[0m\u001b[0;34m\u001b[0m\u001b[0m\n\u001b[1;32m    277\u001b[0m \u001b[0;34m\u001b[0m\u001b[0m\n",
            "\u001b[0;32m/usr/local/lib/python3.7/dist-packages/tensorflow/python/util/traceback_utils.py\u001b[0m in \u001b[0;36merror_handler\u001b[0;34m(*args, **kwargs)\u001b[0m\n\u001b[1;32m    148\u001b[0m     \u001b[0mfiltered_tb\u001b[0m \u001b[0;34m=\u001b[0m \u001b[0;32mNone\u001b[0m\u001b[0;34m\u001b[0m\u001b[0;34m\u001b[0m\u001b[0m\n\u001b[1;32m    149\u001b[0m     \u001b[0;32mtry\u001b[0m\u001b[0;34m:\u001b[0m\u001b[0;34m\u001b[0m\u001b[0;34m\u001b[0m\u001b[0m\n\u001b[0;32m--> 150\u001b[0;31m       \u001b[0;32mreturn\u001b[0m \u001b[0mfn\u001b[0m\u001b[0;34m(\u001b[0m\u001b[0;34m*\u001b[0m\u001b[0margs\u001b[0m\u001b[0;34m,\u001b[0m \u001b[0;34m**\u001b[0m\u001b[0mkwargs\u001b[0m\u001b[0;34m)\u001b[0m\u001b[0;34m\u001b[0m\u001b[0;34m\u001b[0m\u001b[0m\n\u001b[0m\u001b[1;32m    151\u001b[0m     \u001b[0;32mexcept\u001b[0m \u001b[0mException\u001b[0m \u001b[0;32mas\u001b[0m \u001b[0me\u001b[0m\u001b[0;34m:\u001b[0m\u001b[0;34m\u001b[0m\u001b[0;34m\u001b[0m\u001b[0m\n\u001b[1;32m    152\u001b[0m       \u001b[0mfiltered_tb\u001b[0m \u001b[0;34m=\u001b[0m \u001b[0m_process_traceback_frames\u001b[0m\u001b[0;34m(\u001b[0m\u001b[0me\u001b[0m\u001b[0;34m.\u001b[0m\u001b[0m__traceback__\u001b[0m\u001b[0;34m)\u001b[0m\u001b[0;34m\u001b[0m\u001b[0;34m\u001b[0m\u001b[0m\n",
            "\u001b[0;32m/usr/local/lib/python3.7/dist-packages/tensorflow/python/util/dispatch.py\u001b[0m in \u001b[0;36mop_dispatch_handler\u001b[0;34m(*args, **kwargs)\u001b[0m\n\u001b[1;32m   1080\u001b[0m       \u001b[0;31m# Fallback dispatch system (dispatch v1):\u001b[0m\u001b[0;34m\u001b[0m\u001b[0;34m\u001b[0m\u001b[0;34m\u001b[0m\u001b[0m\n\u001b[1;32m   1081\u001b[0m       \u001b[0;32mtry\u001b[0m\u001b[0;34m:\u001b[0m\u001b[0;34m\u001b[0m\u001b[0;34m\u001b[0m\u001b[0m\n\u001b[0;32m-> 1082\u001b[0;31m         \u001b[0;32mreturn\u001b[0m \u001b[0mdispatch_target\u001b[0m\u001b[0;34m(\u001b[0m\u001b[0;34m*\u001b[0m\u001b[0margs\u001b[0m\u001b[0;34m,\u001b[0m \u001b[0;34m**\u001b[0m\u001b[0mkwargs\u001b[0m\u001b[0;34m)\u001b[0m\u001b[0;34m\u001b[0m\u001b[0;34m\u001b[0m\u001b[0m\n\u001b[0m\u001b[1;32m   1083\u001b[0m       \u001b[0;32mexcept\u001b[0m \u001b[0;34m(\u001b[0m\u001b[0mTypeError\u001b[0m\u001b[0;34m,\u001b[0m \u001b[0mValueError\u001b[0m\u001b[0;34m)\u001b[0m\u001b[0;34m:\u001b[0m\u001b[0;34m\u001b[0m\u001b[0;34m\u001b[0m\u001b[0m\n\u001b[1;32m   1084\u001b[0m         \u001b[0;31m# Note: convert_to_eager_tensor currently raises a ValueError, not a\u001b[0m\u001b[0;34m\u001b[0m\u001b[0;34m\u001b[0m\u001b[0;34m\u001b[0m\u001b[0m\n",
            "\u001b[0;32m/usr/local/lib/python3.7/dist-packages/keras/activations.py\u001b[0m in \u001b[0;36mrelu\u001b[0;34m(x, alpha, max_value, threshold)\u001b[0m\n\u001b[1;32m    309\u001b[0m       \u001b[0mTensor\u001b[0m \u001b[0mwill\u001b[0m \u001b[0mbe\u001b[0m \u001b[0mof\u001b[0m \u001b[0mthe\u001b[0m \u001b[0msame\u001b[0m \u001b[0mshape\u001b[0m \u001b[0;32mand\u001b[0m \u001b[0mdtype\u001b[0m \u001b[0mof\u001b[0m \u001b[0minput\u001b[0m\u001b[0;31m \u001b[0m\u001b[0;31m`\u001b[0m\u001b[0mx\u001b[0m\u001b[0;31m`\u001b[0m\u001b[0;34m.\u001b[0m\u001b[0;34m\u001b[0m\u001b[0;34m\u001b[0m\u001b[0m\n\u001b[1;32m    310\u001b[0m   \"\"\"\n\u001b[0;32m--> 311\u001b[0;31m   \u001b[0;32mreturn\u001b[0m \u001b[0mbackend\u001b[0m\u001b[0;34m.\u001b[0m\u001b[0mrelu\u001b[0m\u001b[0;34m(\u001b[0m\u001b[0mx\u001b[0m\u001b[0;34m,\u001b[0m \u001b[0malpha\u001b[0m\u001b[0;34m=\u001b[0m\u001b[0malpha\u001b[0m\u001b[0;34m,\u001b[0m \u001b[0mmax_value\u001b[0m\u001b[0;34m=\u001b[0m\u001b[0mmax_value\u001b[0m\u001b[0;34m,\u001b[0m \u001b[0mthreshold\u001b[0m\u001b[0;34m=\u001b[0m\u001b[0mthreshold\u001b[0m\u001b[0;34m)\u001b[0m\u001b[0;34m\u001b[0m\u001b[0;34m\u001b[0m\u001b[0m\n\u001b[0m\u001b[1;32m    312\u001b[0m \u001b[0;34m\u001b[0m\u001b[0m\n\u001b[1;32m    313\u001b[0m \u001b[0;34m\u001b[0m\u001b[0m\n",
            "\u001b[0;32m/usr/local/lib/python3.7/dist-packages/tensorflow/python/util/traceback_utils.py\u001b[0m in \u001b[0;36merror_handler\u001b[0;34m(*args, **kwargs)\u001b[0m\n\u001b[1;32m    148\u001b[0m     \u001b[0mfiltered_tb\u001b[0m \u001b[0;34m=\u001b[0m \u001b[0;32mNone\u001b[0m\u001b[0;34m\u001b[0m\u001b[0;34m\u001b[0m\u001b[0m\n\u001b[1;32m    149\u001b[0m     \u001b[0;32mtry\u001b[0m\u001b[0;34m:\u001b[0m\u001b[0;34m\u001b[0m\u001b[0;34m\u001b[0m\u001b[0m\n\u001b[0;32m--> 150\u001b[0;31m       \u001b[0;32mreturn\u001b[0m \u001b[0mfn\u001b[0m\u001b[0;34m(\u001b[0m\u001b[0;34m*\u001b[0m\u001b[0margs\u001b[0m\u001b[0;34m,\u001b[0m \u001b[0;34m**\u001b[0m\u001b[0mkwargs\u001b[0m\u001b[0;34m)\u001b[0m\u001b[0;34m\u001b[0m\u001b[0;34m\u001b[0m\u001b[0m\n\u001b[0m\u001b[1;32m    151\u001b[0m     \u001b[0;32mexcept\u001b[0m \u001b[0mException\u001b[0m \u001b[0;32mas\u001b[0m \u001b[0me\u001b[0m\u001b[0;34m:\u001b[0m\u001b[0;34m\u001b[0m\u001b[0;34m\u001b[0m\u001b[0m\n\u001b[1;32m    152\u001b[0m       \u001b[0mfiltered_tb\u001b[0m \u001b[0;34m=\u001b[0m \u001b[0m_process_traceback_frames\u001b[0m\u001b[0;34m(\u001b[0m\u001b[0me\u001b[0m\u001b[0;34m.\u001b[0m\u001b[0m__traceback__\u001b[0m\u001b[0;34m)\u001b[0m\u001b[0;34m\u001b[0m\u001b[0;34m\u001b[0m\u001b[0m\n",
            "\u001b[0;32m/usr/local/lib/python3.7/dist-packages/tensorflow/python/util/dispatch.py\u001b[0m in \u001b[0;36mop_dispatch_handler\u001b[0;34m(*args, **kwargs)\u001b[0m\n\u001b[1;32m   1080\u001b[0m       \u001b[0;31m# Fallback dispatch system (dispatch v1):\u001b[0m\u001b[0;34m\u001b[0m\u001b[0;34m\u001b[0m\u001b[0;34m\u001b[0m\u001b[0m\n\u001b[1;32m   1081\u001b[0m       \u001b[0;32mtry\u001b[0m\u001b[0;34m:\u001b[0m\u001b[0;34m\u001b[0m\u001b[0;34m\u001b[0m\u001b[0m\n\u001b[0;32m-> 1082\u001b[0;31m         \u001b[0;32mreturn\u001b[0m \u001b[0mdispatch_target\u001b[0m\u001b[0;34m(\u001b[0m\u001b[0;34m*\u001b[0m\u001b[0margs\u001b[0m\u001b[0;34m,\u001b[0m \u001b[0;34m**\u001b[0m\u001b[0mkwargs\u001b[0m\u001b[0;34m)\u001b[0m\u001b[0;34m\u001b[0m\u001b[0;34m\u001b[0m\u001b[0m\n\u001b[0m\u001b[1;32m   1083\u001b[0m       \u001b[0;32mexcept\u001b[0m \u001b[0;34m(\u001b[0m\u001b[0mTypeError\u001b[0m\u001b[0;34m,\u001b[0m \u001b[0mValueError\u001b[0m\u001b[0;34m)\u001b[0m\u001b[0;34m:\u001b[0m\u001b[0;34m\u001b[0m\u001b[0;34m\u001b[0m\u001b[0m\n\u001b[1;32m   1084\u001b[0m         \u001b[0;31m# Note: convert_to_eager_tensor currently raises a ValueError, not a\u001b[0m\u001b[0;34m\u001b[0m\u001b[0;34m\u001b[0m\u001b[0;34m\u001b[0m\u001b[0m\n",
            "\u001b[0;32m/usr/local/lib/python3.7/dist-packages/keras/backend.py\u001b[0m in \u001b[0;36mrelu\u001b[0;34m(x, alpha, max_value, threshold)\u001b[0m\n\u001b[1;32m   4954\u001b[0m     \u001b[0mclip_max\u001b[0m \u001b[0;34m=\u001b[0m \u001b[0;32mFalse\u001b[0m\u001b[0;34m\u001b[0m\u001b[0;34m\u001b[0m\u001b[0m\n\u001b[1;32m   4955\u001b[0m   \u001b[0;32melse\u001b[0m\u001b[0;34m:\u001b[0m\u001b[0;34m\u001b[0m\u001b[0;34m\u001b[0m\u001b[0m\n\u001b[0;32m-> 4956\u001b[0;31m     \u001b[0mx\u001b[0m \u001b[0;34m=\u001b[0m \u001b[0mtf\u001b[0m\u001b[0;34m.\u001b[0m\u001b[0mnn\u001b[0m\u001b[0;34m.\u001b[0m\u001b[0mrelu\u001b[0m\u001b[0;34m(\u001b[0m\u001b[0mx\u001b[0m\u001b[0;34m)\u001b[0m\u001b[0;34m\u001b[0m\u001b[0;34m\u001b[0m\u001b[0m\n\u001b[0m\u001b[1;32m   4957\u001b[0m \u001b[0;34m\u001b[0m\u001b[0m\n\u001b[1;32m   4958\u001b[0m   \u001b[0;32mif\u001b[0m \u001b[0mclip_max\u001b[0m\u001b[0;34m:\u001b[0m\u001b[0;34m\u001b[0m\u001b[0;34m\u001b[0m\u001b[0m\n",
            "\u001b[0;32m/usr/local/lib/python3.7/dist-packages/tensorflow/python/ops/gen_nn_ops.py\u001b[0m in \u001b[0;36mrelu\u001b[0;34m(features, name)\u001b[0m\n\u001b[1;32m  10523\u001b[0m     \u001b[0;32mtry\u001b[0m\u001b[0;34m:\u001b[0m\u001b[0;34m\u001b[0m\u001b[0;34m\u001b[0m\u001b[0m\n\u001b[1;32m  10524\u001b[0m       _result = pywrap_tfe.TFE_Py_FastPathExecute(\n\u001b[0;32m> 10525\u001b[0;31m         _ctx, \"Relu\", name, features)\n\u001b[0m\u001b[1;32m  10526\u001b[0m       \u001b[0;32mreturn\u001b[0m \u001b[0m_result\u001b[0m\u001b[0;34m\u001b[0m\u001b[0;34m\u001b[0m\u001b[0m\n\u001b[1;32m  10527\u001b[0m     \u001b[0;32mexcept\u001b[0m \u001b[0m_core\u001b[0m\u001b[0;34m.\u001b[0m\u001b[0m_NotOkStatusException\u001b[0m \u001b[0;32mas\u001b[0m \u001b[0me\u001b[0m\u001b[0;34m:\u001b[0m\u001b[0;34m\u001b[0m\u001b[0;34m\u001b[0m\u001b[0m\n",
            "\u001b[0;31mKeyboardInterrupt\u001b[0m: "
          ]
        }
      ]
    }
  ]
}
